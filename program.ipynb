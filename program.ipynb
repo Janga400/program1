{
  "nbformat": 4,
  "nbformat_minor": 0,
  "metadata": {
    "colab": {
      "name": "program.ipynb",
      "provenance": [],
      "include_colab_link": true
    },
    "kernelspec": {
      "name": "python2",
      "display_name": "Python 2"
    }
  },
  "cells": [
    {
      "cell_type": "markdown",
      "metadata": {
        "id": "view-in-github",
        "colab_type": "text"
      },
      "source": [
        "<a href=\"https://colab.research.google.com/github/Janga400/program1/blob/master/program.ipynb\" target=\"_parent\"><img src=\"https://colab.research.google.com/assets/colab-badge.svg\" alt=\"Open In Colab\"/></a>"
      ]
    },
    {
      "cell_type": "code",
      "metadata": {
        "id": "ICgvWxafKuqw",
        "colab_type": "code",
        "colab": {}
      },
      "source": [
        ""
      ],
      "execution_count": 0,
      "outputs": []
    },
    {
      "cell_type": "markdown",
      "metadata": {
        "id": "24XYGzKWKvH9",
        "colab_type": "text"
      },
      "source": [
        "first program iis this"
      ]
    },
    {
      "cell_type": "markdown",
      "metadata": {
        "id": "mRj93mywOME8",
        "colab_type": "text"
      },
      "source": [
        ""
      ]
    },
    {
      "cell_type": "code",
      "metadata": {
        "id": "fkXiFIzAKxKc",
        "colab_type": "code",
        "colab": {
          "base_uri": "https://localhost:8080/",
          "height": 51
        },
        "outputId": "20da7592-62b0-4e56-bdac-bdfbd8c0a1a4"
      },
      "source": [
        "# Import the Python 3 print function\n",
        "# from __future__ import print_function\n",
        "\n",
        "# Import the \"gdal\" submodule from within the \"osgeo\" module\n",
        "from osgeo import gdal\n",
        "\n",
        "# We can check which version we're running by printing the \"__version__\" variable\n",
        "print(\"GDAL's version is: \" + gdal.__version__)\n",
        "print(gdal)"
      ],
      "execution_count": 1,
      "outputs": [
        {
          "output_type": "stream",
          "text": [
            "GDAL's version is: 2.2.3\n",
            "<module 'osgeo.gdal' from '/usr/lib/python2.7/dist-packages/osgeo/gdal.pyc'>\n"
          ],
          "name": "stdout"
        }
      ]
    }
  ]
}